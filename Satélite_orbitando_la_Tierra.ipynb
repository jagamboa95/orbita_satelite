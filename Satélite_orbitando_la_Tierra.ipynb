{
 "cells": [
  {
   "cell_type": "markdown",
   "metadata": {},
   "source": [
    "Ejercicio:\n",
    "   \n",
    "Satélite orbitando la Tierra\n",
    "\n",
    "1)Calcule la altura sobre la superficie (h) terrestre a la que debe estar un satélite que órbita la Tierra con período T.\n",
    "\n",
    "2)Escriba un programa que estime h a partir de un período dado.\n",
    "\n",
    "3)Estime la altura para un T de un día (geosincrónico), 90 min y 45 min.\n",
    "\n",
    "4)Técnicamente, el período T de un sátelite geosincrónico  es por día sideral (23.93 h). Cuánta es la diferencia en h, para un período de 24 h?"
   ]
  },
  {
   "cell_type": "markdown",
   "metadata": {},
   "source": [
    "Solución:\n",
    "\n",
    "1)Para el desarrollo de este problema se necesita recordar los conceptos de fuerza gravitacional  y fuerza centrifuga, y comprender su importancia en la trayectoria del satélite.\n",
    "\n",
    "La fuerza de atracción que ejerce la Tierra sobre un objeto se llama \"fuerza gravitacional\", y esta determinada por la ley de Newton de la gravitación universal:\n",
    "\n",
    "\\begin{equation}\n",
    "F_{g}=G \\frac{m_{1} m_{2}}{r^{2}}\n",
    "\\end{equation}\n",
    "Donde G es la constante de gravitación universal, m1 y m2 son las masas de los cuerpos involucrados, y r la distancia de separacion de los 2 cuerpos.\n",
    "\n",
    "\n",
    "La fuerza centrífuga es una fuerza ficticia que aparece cuando se describe el movimiento de un cuerpo en un sistema de referencia en rotación, o equivalentemente la fuerza aparente que percibe un observador no inercial que se encuentra en un sistema de referencia rotatorio, y viene dada por la siguiente expresión:\n",
    "\n",
    "\\begin{equation}\n",
    "F_{cf}=m*a_{cf}=m*w^{2}r=m*(\\frac{2\\pi}{T})^{2}r\n",
    "\\end{equation}\n",
    "\n",
    "Donde m es la masa del satelite para este problema, T su periodo de orbita y r el radio de la orbita.\n",
    "\n",
    "sabiendo que para que el satelite se mantenga en una orbita estable, estas dos fuerzas deben ser iguales:\n",
    "\n",
    "\\begin{equation}\n",
    "F_{g}=F_{cf}\n",
    "\\end{equation}\n",
    "\n",
    "\\begin{equation}\n",
    "G \\frac{m_{1} m_{2}}{r^{2}}=m*(\\frac{2\\pi}{T})^{2}r\n",
    "\\end{equation}\n",
    "\n",
    "de donde depejando r que es el radio de la orbita del satelite tendremos:\n",
    "\n",
    "\\begin{equation}\n",
    "r=\\sqrt[3]{\\frac{G m_{s}T^{2}}{4 \\pi^{2}}}\n",
    "\\end{equation}\n",
    "\n",
    "pero el problema nos esta preguntando por la altura con respecto a la superficie de la tierra, debemos restar el radio de la tierra, por tanto, la altura sera:\n",
    "\n",
    "\\begin{equation}\n",
    "h=r-r_{t}=\\sqrt[3]{\\frac{G m_{s}T^{2}}{4 \\pi^{2}}}-r_{t}\n",
    "\\end{equation}\n",
    "\n",
    "\n",
    "2)A Continuacion se muestra el codigo del programa necesario para este ejercicio:"
   ]
  },
  {
   "cell_type": "code",
   "execution_count": 18,
   "metadata": {},
   "outputs": [
    {
     "name": "stdout",
     "output_type": "stream",
     "text": [
      "ingrese el periodo (en segundos):86148\n",
      "la altura del satelite con respecto a la superficie de la tierra es\n",
      "35773696.62816557\n"
     ]
    }
   ],
   "source": [
    "T=float (input (\"ingrese el periodo (en segundos):\"))\n",
    "G=6.67e-11\n",
    "mt=5.97e24\n",
    "rt=6.371e6\n",
    "h=((((T**2)*(G*mt))/(2*3.1416)**2)**(1/3))-rt\n",
    "print(\"la altura del satelite con respecto a la superficie de la tierra es\" )\n",
    "print(h)"
   ]
  },
  {
   "cell_type": "markdown",
   "metadata": {},
   "source": [
    "3)La altura estimada del satelite para un periodo de 90 minutos es de 279311.257829844, y la altura estimada del satelite para un periodo de 45 minutos es de -2181566.428953664"
   ]
  },
  {
   "cell_type": "markdown",
   "metadata": {},
   "source": [
    "4)La altura para el periodo de 24 horas es de 3.585584434638021e7 metros y la altura para el periodo de 23.93 horas es de 3.577369662816557e7, es decir una hay una diferencia de altura de:"
   ]
  },
  {
   "cell_type": "code",
   "execution_count": 22,
   "metadata": {},
   "outputs": [
    {
     "name": "stdout",
     "output_type": "stream",
     "text": [
      "la diferencia de altura del satelite en metros es:\n",
      "82147.71821463853\n"
     ]
    }
   ],
   "source": [
    "d=35855844.34638021- 35773696.62816557\n",
    "print(\"la diferencia de altura del satelite en metros es:\" )\n",
    "print(d)"
   ]
  },
  {
   "cell_type": "code",
   "execution_count": null,
   "metadata": {},
   "outputs": [],
   "source": []
  }
 ],
 "metadata": {
  "kernelspec": {
   "display_name": "Python 3",
   "language": "python",
   "name": "python3"
  },
  "language_info": {
   "codemirror_mode": {
    "name": "ipython",
    "version": 3
   },
   "file_extension": ".py",
   "mimetype": "text/x-python",
   "name": "python",
   "nbconvert_exporter": "python",
   "pygments_lexer": "ipython3",
   "version": "3.5.2"
  }
 },
 "nbformat": 4,
 "nbformat_minor": 2
}
